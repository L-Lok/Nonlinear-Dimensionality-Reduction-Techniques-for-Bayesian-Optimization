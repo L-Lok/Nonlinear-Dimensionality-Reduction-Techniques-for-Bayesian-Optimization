{
 "cells": [
  {
   "cell_type": "code",
   "execution_count": null,
   "metadata": {},
   "outputs": [],
   "source": [
    "from pathlib import Path\n",
    "from typing import Optional\n",
    "from typing import Optional, Union\n",
    "import numpy as np\n",
    "import torch\n",
    "from torch import Tensor\n",
    "from pytorch_metric_learning import distances\n",
    "from torch.utils.data import TensorDataset, WeightedRandomSampler\n",
    "from torch.utils.data.dataloader import DataLoader\n",
    "\n",
    "from src.bo_vae_sdr.vae.data_generator import DatasetPrepare\n",
    "from src.bo_vae_sdr.vae.model import LSBOVAE\n",
    "device = torch.device(\"cuda\" if torch.cuda.is_available() else \"cpu\")\n",
    "torch.set_default_dtype(torch.float64)"
   ]
  },
  {
   "cell_type": "code",
   "execution_count": null,
   "metadata": {},
   "outputs": [
    {
     "data": {
      "text/plain": [
       "<All keys matched successfully>"
      ]
     },
     "execution_count": 2,
     "metadata": {},
     "output_type": "execute_result"
    }
   ],
   "source": [
    "feature_dim = 5\n",
    "latent_dim = 2\n",
    "hparams = {\n",
    "    \"beta_start\": None,\n",
    "    \"beta_final\": 1.,\n",
    "    \"beta_step\": 1.1,\n",
    "    \"beta_step_freq\": 5,\n",
    "    \"beta_warmup\": 50,\n",
    "    \"beta_metric_loss\": 1,\n",
    "    \"metric_loss\": {\n",
    "        \"type\": \"triplet\",\n",
    "        \"threshold\": 0.1,\n",
    "        \"margin\": None,\n",
    "        \"soft\": True,\n",
    "        \"eta\": 0.01,\n",
    "    },\n",
    "    # data generator params\n",
    "    \"num_sample\": 2000,\n",
    "    \"feature_dim\": feature_dim,\n",
    "    \"target_dim\": 1,\n",
    "    \"data_split\": 0.9,\n",
    "    \"sampling_method\": \"normal\",\n",
    "    \"batch_size\": 128,\n",
    "    \"obj_func_kw\": \"ackley\",# it does not matter\n",
    "    # weight\n",
    "    \"weight_type\": \"uniform\",\n",
    "    # vae encoder\n",
    "    \"latent_dim\": latent_dim,\n",
    "    \"encoder_layer_dims\": [feature_dim, 3, latent_dim],\n",
    "    \"decoder_layer_dims\": [latent_dim, 3, feature_dim],\n",
    "}\n",
    "opt_params = {\"lr\": 1e-3}\n",
    "model = LSBOVAE(hparams=hparams).to(device=device)\n",
    "model.load_state_dict(torch.load('./output/000_pre_trained_vae/model.pth'))\n"
   ]
  },
  {
   "cell_type": "code",
   "execution_count": null,
   "metadata": {},
   "outputs": [
    {
     "name": "stdout",
     "output_type": "stream",
     "text": [
      "dataset load\n",
      "torch.Size([1800, 5])\n",
      "torch.Size([1800, 1])\n",
      "torch.Size([200, 5])\n",
      "torch.Size([200, 1])\n"
     ]
    }
   ],
   "source": [
    "_, test_loader = DatasetPrepare(hparams=hparams).load(\n",
    "            train_path=Path('./output/000_pre_trained_vae/train_set.pth'), test_path=Path('./output/000_pre_trained_vae/test_set.pth')\n",
    "        )"
   ]
  },
  {
   "cell_type": "code",
   "execution_count": 4,
   "metadata": {},
   "outputs": [],
   "source": [
    "zs = []\n",
    "ys = []\n",
    "for test_x, y in test_loader:\n",
    "            mu, logvar = model.encoder(test_x.to(device))\n",
    "            z = model.sample_latent(mu=mu, logvar=logvar)\n",
    "            zs.append(z)\n",
    "            ys.append(y)"
   ]
  },
  {
   "cell_type": "code",
   "execution_count": 5,
   "metadata": {},
   "outputs": [],
   "source": [
    "class TripletLossTorch:\n",
    "    def __init__(self, threshold: float, margin: Optional[float] = None, soft: Optional[bool] = False,\n",
    "                 eta: Optional[float] = None):\n",
    "        \"\"\"\n",
    "        Compute Triplet loss\n",
    "        Args:\n",
    "            threshold: separate positive and negative elements in temrs of `y` distance\n",
    "            margin: hard triplet loss parameter\n",
    "            soft: whether to use sigmoid version of triplet loss\n",
    "            eta: parameter of hyperbolic function softening transition between positive and negative classes\n",
    "        \"\"\"\n",
    "        self.threshold = threshold\n",
    "        self.margin = margin\n",
    "        self.soft = soft\n",
    "        assert eta is None or eta > 0, eta\n",
    "        self.eta = eta\n",
    "\n",
    "    def build_loss_matrix(self, embs: Tensor, ys: Tensor):\n",
    "        neg_emb = torch.linspace(0, 2, 100, device=device)\n",
    "        neg_ys = torch.linspace(0, 1, 100, device=device)\n",
    "        # neg_emb_mesh, neg_ys_mesh = torch.meshgrid(neg_emb, neg_ys)\n",
    "        loss = torch.zeros((100,100), device=device)\n",
    "        \n",
    "        for i in range(100):\n",
    "            for j in range(100):\n",
    "\n",
    "                pos_i = torch.tensor([0.6], device=device)\n",
    "            \n",
    "                neg_i = neg_emb[i]\n",
    "            \n",
    "                if self.soft:\n",
    "                    triplet_losses_for_anchor_i = torch.nn.functional.softplus(pos_i - neg_i)\n",
    "                    if self.eta is not None:\n",
    "                        # get the corresponding delta ys\n",
    "                        pos_y_i = torch.tensor([0.1], device=device)\n",
    "                        neg_y_i = neg_ys[j]\n",
    "                        \n",
    "                        # triplet_losses_for_anchor_i = (triplet_losses_for_anchor_i * \\\n",
    "                        #                             self.smooth_indicator(self.threshold - pos_y_i) \\\n",
    "                        #                                 .div(self.smooth_indicator(self.threshold)) \\\n",
    "                        #                             * self.smooth_indicator(neg_y_i - self.threshold) \\\n",
    "                        #                                 .div(self.smooth_indicator(1 - self.threshold)) )*self.identity_indicator(pos_y_i, neg_y_i)\n",
    "                        triplet_losses_for_anchor_i = (triplet_losses_for_anchor_i)*self.identity_indicator(pos_y_i, neg_y_i)\n",
    "                        \n",
    "                        loss[i,j] = triplet_losses_for_anchor_i\n",
    "                    \n",
    "                else:\n",
    "                    triplet_losses_for_anchor_i = torch.relu(self.margin + pos_i - neg_i)\n",
    "                    loss[i,j] = triplet_losses_for_anchor_i\n",
    "            \n",
    "        return loss.cpu().detach().numpy()\n",
    "\n",
    "    def identity_indicator(self, yp, yn):\n",
    "        if yp < self.threshold and yn >= self.threshold:\n",
    "            return 1\n",
    "        else:\n",
    "            return 0 \n",
    "    def smooth_indicator(self, x: Union[Tensor, float]) -> Union[Tensor, float]:\n",
    "        if isinstance(x, float):\n",
    "            return np.tanh(x / (2 * self.eta))\n",
    "        return torch.tanh(x / (2 * self.eta))\n",
    "\n",
    "    def compute_loss(self, embs: Tensor, ys: Tensor):\n",
    "        return self.build_loss_matrix(embs, ys)\n",
    "\n",
    "    def __call__(self, embs: Tensor, ys: Tensor):\n",
    "        return self.compute_loss(embs, ys)"
   ]
  },
  {
   "cell_type": "code",
   "execution_count": 6,
   "metadata": {},
   "outputs": [],
   "source": [
    "TL = TripletLossTorch(threshold=0.25, margin=0.25, soft=True, eta=0.05)\n",
    "loss = TL.build_loss_matrix(embs=zs, ys=ys)\n",
    "# print(loss)"
   ]
  },
  {
   "cell_type": "code",
   "execution_count": 7,
   "metadata": {},
   "outputs": [
    {
     "data": {
      "text/plain": [
       "Text(0.5, 1.0, 'Triplet Loss $(\\\\eta = 0.25)$ - With no smoothening ($\\\\nu \\\\rightarrow 0$)')"
      ]
     },
     "execution_count": 7,
     "metadata": {},
     "output_type": "execute_result"
    },
    {
     "data": {
      "image/png": "[encoded data removed]",
      "text/plain": [
       "<Figure size 800x600 with 2 Axes>"
      ]
     },
     "metadata": {},
     "output_type": "display_data"
    }
   ],
   "source": [
    "import matplotlib.pyplot as plt\n",
    "fig, ax = plt.subplots(figsize = (8,6))\n",
    "im = ax.imshow(loss.T,origin='lower', cmap = 'plasma', extent=[0, 2, 0, 1])\n",
    "ax.contour(loss.T, extent=[0, 2, 0, 1], colors = 'white', alpha = 0.7)\n",
    "cbar = fig.colorbar(im, ax = ax,fraction=0.025, pad=0.04)\n",
    "ax.set_xlabel(r'$\\|\\mathbf{z}_i - \\mathbf{z}_k\\|_{p = 2}$ (Negative Distance)', fontsize=12, weight='bold')\n",
    "ax.set_ylabel(r'$|f(\\mathbf{x}_i) - f(\\mathbf{x}_k)|$', fontsize=12, weight='bold')\n",
    "ax.set_title(r'Triplet Loss $(\\eta = 0.25)$ - With no smoothening ($\\nu \\rightarrow 0$)', fontsize=14, weight='bold')\n",
    "# plt.axis()\n"
   ]
  },
  {
   "cell_type": "code",
   "execution_count": null,
   "metadata": {},
   "outputs": [],
   "source": []
  }
 ],
 "metadata": {
  "kernelspec": {
   "display_name": ".venv",
   "language": "python",
   "name": "python3"
  },
  "language_info": {
   "codemirror_mode": {
    "name": "ipython",
    "version": 3
   },
   "file_extension": ".py",
   "mimetype": "text/x-python",
   "name": "python",
   "nbconvert_exporter": "python",
   "pygments_lexer": "ipython3",
   "version": "3.10.11"
  }
 },
 "nbformat": 4,
 "nbformat_minor": 2
}
